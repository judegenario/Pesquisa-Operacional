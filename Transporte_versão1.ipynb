{
  "nbformat": 4,
  "nbformat_minor": 0,
  "metadata": {
    "colab": {
      "name": "Transporte_versão1.ipynb",
      "provenance": [],
      "authorship_tag": "ABX9TyPbdkAFv+nakON2Df9ZbjcI",
      "include_colab_link": true
    },
    "kernelspec": {
      "name": "python3",
      "display_name": "Python 3"
    }
  },
  "cells": [
    {
      "cell_type": "markdown",
      "metadata": {
        "id": "view-in-github",
        "colab_type": "text"
      },
      "source": [
        "<a href=\"https://colab.research.google.com/github/judegenario/Pesquisa-Operacional/blob/master/Transporte_vers%C3%A3o1.ipynb\" target=\"_parent\"><img src=\"https://colab.research.google.com/assets/colab-badge.svg\" alt=\"Open In Colab\"/></a>"
      ]
    },
    {
      "cell_type": "code",
      "metadata": {
        "id": "6iah0Y_UUAfu",
        "colab_type": "code",
        "colab": {
          "base_uri": "https://localhost:8080/",
          "height": 156
        },
        "outputId": "0bd33d57-e013-4eb7-8e95-e19c0a19cf7a"
      },
      "source": [
        "!pip install mip\n"
      ],
      "execution_count": 1,
      "outputs": [
        {
          "output_type": "stream",
          "text": [
            "Collecting mip\n",
            "\u001b[?25l  Downloading https://files.pythonhosted.org/packages/6b/65/8a2cdd0f900003c16628421df8c4a381909bd8ab2575d1c23eecdd6d23ed/mip-1.11.0-py3-none-any.whl (47.1MB)\n",
            "\u001b[K     |████████████████████████████████| 47.1MB 81kB/s \n",
            "\u001b[?25hRequirement already satisfied: cffi in /usr/local/lib/python3.6/dist-packages (from mip) (1.14.2)\n",
            "Requirement already satisfied: pycparser in /usr/local/lib/python3.6/dist-packages (from cffi->mip) (2.20)\n",
            "Installing collected packages: mip\n",
            "Successfully installed mip-1.11.0\n"
          ],
          "name": "stdout"
        }
      ]
    },
    {
      "cell_type": "code",
      "metadata": {
        "id": "DKXiTQI0c-dW",
        "colab_type": "code",
        "colab": {}
      },
      "source": [
        "from mip import *"
      ],
      "execution_count": 3,
      "outputs": []
    },
    {
      "cell_type": "code",
      "metadata": {
        "id": "1mGcRyPhdxNy",
        "colab_type": "code",
        "colab": {}
      },
      "source": [
        "#peso das caixas\n",
        "p = [700, 1000, 800, 900, 600, 500]\n",
        "\n",
        "#volume das caixas\n",
        "v = [1, 3, 2, 4, 3, 2]\n",
        "\n",
        "#utilidade das caixas\n",
        "u = [3, 7, 3, 11, 6, 9]\n",
        "\n",
        "#capacidade máxima do veículo\n",
        "p_max = 4000\n",
        "v_max = 9\n",
        "\n",
        "#Conjunto de índices de objetos\n",
        "I = range(6)\n",
        "\n",
        "#declaração do modelo\n",
        "m = Model('transporte')\n",
        "\n",
        "#declaração das variáveis inteiras (em forma de lista)\n",
        "x = [m.add_var(var_type = INTEGER, name = 'x_%i' %(i)) for i in I]\n",
        "\n",
        "#declaração da função objetivo\n",
        "m.objective = maximize (xsum (u[i]*x[i] for i in I))\n",
        "\n",
        "#declaração das restrições\n",
        "m += xsum (p[i]*x[i] for i in I) <= p_max\n",
        "m += xsum (v[i]*x[i] for i in I) <= v_max\n",
        "\n",
        "status = m.optimize()"
      ],
      "execution_count": 7,
      "outputs": []
    },
    {
      "cell_type": "code",
      "metadata": {
        "id": "cvJd7spRpWl7",
        "colab_type": "code",
        "colab": {
          "base_uri": "https://localhost:8080/",
          "height": 170
        },
        "outputId": "0a7a6c44-3caf-47ff-cdb1-4475aa738348"
      },
      "source": [
        "if status == OptimizationStatus.OPTIMAL:\n",
        "  print (\"Utilidade Total={}\".format(m.objective_value))\n",
        "\n",
        "  selecionados = [i for i in I if x[i].x >= 0.99]\n",
        "  print (\"Selecionados: {}\".format(selecionados))\n",
        "  \n",
        "  print (\"Solução: \")\n",
        "  for v in m.vars:\n",
        "    print (\"{}:{}\".format(v.name, v.x))\n",
        "\n",
        "elif status == OptimizationStatus.NO_SOLUTION_FOUND:\n",
        "  print (\"Solução não encontrada\")\n",
        "\n",
        "else:\n",
        "  print (status)"
      ],
      "execution_count": 8,
      "outputs": [
        {
          "output_type": "stream",
          "text": [
            "Utilidade Total=39.0\n",
            "Selecionados: [0, 5]\n",
            "Solução: \n",
            "x_0:1.0\n",
            "x_1:0.0\n",
            "x_2:0.0\n",
            "x_3:0.0\n",
            "x_4:0.0\n",
            "x_5:4.0\n"
          ],
          "name": "stdout"
        }
      ]
    }
  ]
}